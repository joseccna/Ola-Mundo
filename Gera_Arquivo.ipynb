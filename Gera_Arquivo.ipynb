{
  "nbformat": 4,
  "nbformat_minor": 0,
  "metadata": {
    "colab": {
      "provenance": [],
      "authorship_tag": "ABX9TyOd7RRUuWEoNCaVE3Eda4iK",
      "include_colab_link": true
    },
    "kernelspec": {
      "name": "python3",
      "display_name": "Python 3"
    },
    "language_info": {
      "name": "python"
    }
  },
  "cells": [
    {
      "cell_type": "markdown",
      "metadata": {
        "id": "view-in-github",
        "colab_type": "text"
      },
      "source": [
        "<a href=\"https://colab.research.google.com/github/joseccna/Ola-Mundo/blob/main/Gera_Arquivo.ipynb\" target=\"_parent\"><img src=\"https://colab.research.google.com/assets/colab-badge.svg\" alt=\"Open In Colab\"/></a>"
      ]
    },
    {
      "cell_type": "markdown",
      "source": [
        "Gravaçao de arquivos"
      ],
      "metadata": {
        "id": "-JpnFnSAqUCy"
      }
    },
    {
      "cell_type": "code",
      "source": [
        "import pandas as pd\n",
        "import yfinance as yf"
      ],
      "metadata": {
        "id": "ErvpITuQqbg4"
      },
      "execution_count": 1,
      "outputs": []
    },
    {
      "cell_type": "code",
      "source": [
        "indice = 'PETR4.SA'\n",
        "\n",
        "dados = yf.download(indice, start='2023-06-01', end='2023-06-16')\n",
        "dados.to_csv('PETR4SA.CSV')"
      ],
      "metadata": {
        "id": "hmMv3G3TqvB4"
      },
      "execution_count": null,
      "outputs": []
    }
  ]
}