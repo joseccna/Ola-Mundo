{
  "nbformat": 4,
  "nbformat_minor": 0,
  "metadata": {
    "colab": {
      "provenance": [],
      "authorship_tag": "ABX9TyMdhyq887tMz97+lVVupy4z",
      "include_colab_link": true
    },
    "kernelspec": {
      "name": "python3",
      "display_name": "Python 3"
    },
    "language_info": {
      "name": "python"
    }
  },
  "cells": [
    {
      "cell_type": "markdown",
      "metadata": {
        "id": "view-in-github",
        "colab_type": "text"
      },
      "source": [
        "<a href=\"https://colab.research.google.com/github/joseccna/Ola-Mundo/blob/main/Finaceiro.ipynb\" target=\"_parent\"><img src=\"https://colab.research.google.com/assets/colab-badge.svg\" alt=\"Open In Colab\"/></a>"
      ]
    },
    {
      "cell_type": "code",
      "source": [
        "!pip install yfinance"
      ],
      "metadata": {
        "id": "6m58l2_VJo5l"
      },
      "execution_count": null,
      "outputs": []
    },
    {
      "cell_type": "code",
      "source": [
        "import yfinance as yf\n",
        "from datetime import datetime"
      ],
      "metadata": {
        "id": "w2YM3i_MKhZB"
      },
      "execution_count": 3,
      "outputs": []
    },
    {
      "cell_type": "code",
      "source": [
        "end_data = datetime.now().strftime('%Y-%m-%d') # pegar data atual\n",
        "\n",
        "indice = 'AMZN' #Amazon\n",
        "\n",
        "dados = yf.download('AMZN', start='2023-06-01', end=end_data) # definir a busca com datas inicio/fim"
      ],
      "metadata": {
        "colab": {
          "base_uri": "https://localhost:8080/"
        },
        "id": "Y8HFm8ICLlDt",
        "outputId": "629cd7a1-0b57-4045-c6bf-e9afdf15e5db"
      },
      "execution_count": 7,
      "outputs": [
        {
          "output_type": "stream",
          "name": "stdout",
          "text": [
            "\r[*********************100%***********************]  1 of 1 completed\n"
          ]
        }
      ]
    },
    {
      "cell_type": "code",
      "source": [
        "dados['Adj Close'].plot(figsize = (5,3)) # pegando a informação da variavel (dados) e fazendo um grafico."
      ],
      "metadata": {
        "id": "sYr0wu-nQPCB"
      },
      "execution_count": null,
      "outputs": []
    },
    {
      "cell_type": "code",
      "source": [
        "lista_acoes = ['aapl', 'goog', 'amzn'] # fazendo uma lista para pesquiza das açoes.\n",
        "for acao in lista_acoes: # fazendo um loop para pegar cada objeto da lista\n",
        "  dados = yf.download(acao , start='2023-06-01', end='2023-06-16') # baixar a ação\n",
        "  dados['Adj Close'].plot(figsize = (5,3))"
      ],
      "metadata": {
        "id": "m5X0XWt1S0TC"
      },
      "execution_count": null,
      "outputs": []
    },
    {
      "cell_type": "code",
      "source": [
        "print(type(acao))"
      ],
      "metadata": {
        "colab": {
          "base_uri": "https://localhost:8080/"
        },
        "id": "0SiSrpbuUM9M",
        "outputId": "db97023e-0f2d-4bfb-ea1b-939318bf752b"
      },
      "execution_count": 13,
      "outputs": [
        {
          "output_type": "stream",
          "name": "stdout",
          "text": [
            "<class 'str'>\n"
          ]
        }
      ]
    },
    {
      "cell_type": "code",
      "source": [
        "import pandas as pd\n",
        "import yfinance as yf\n",
        "import matplotlib.pyplot as plt\n",
        "from datetime import datetime"
      ],
      "metadata": {
        "id": "YTn6LPKsXw0g"
      },
      "execution_count": 15,
      "outputs": []
    },
    {
      "cell_type": "code",
      "source": [
        "acoes = pd.read_excel('EmpresasBolsa.xlsx')"
      ],
      "metadata": {
        "id": "OTJ9HI-KYZMf"
      },
      "execution_count": 16,
      "outputs": []
    }
  ]
}